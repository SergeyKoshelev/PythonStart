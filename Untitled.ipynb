{
 "cells": [
  {
   "cell_type": "code",
   "execution_count": 6,
   "id": "mineral-chambers",
   "metadata": {},
   "outputs": [
    {
     "name": "stdout",
     "output_type": "stream",
     "text": [
      "get_data\n"
     ]
    },
    {
     "data": {
      "text/plain": [
       "'{\"data\": 42}'"
      ]
     },
     "execution_count": 6,
     "metadata": {},
     "output_type": "execute_result"
    }
   ],
   "source": [
    "import json\n",
    "import functools\n",
    "\n",
    "def to_json (func) :\n",
    "    @functools.wraps(func)\n",
    "    def changed_func(*args, **kwargs) :\n",
    "        data = func(*args, **kwargs)\n",
    "        json_data = json.dumps(data)\n",
    "        return json_data\n",
    "    return changed_func\n",
    "\n",
    "@to_json\n",
    "def get_data():\n",
    "  return {\n",
    "    'data': 42\n",
    "  }\n",
    "\n",
    "get_data()  # вернёт '{\"data\": 42}'"
   ]
  }
 ],
 "metadata": {
  "kernelspec": {
   "display_name": "Python 3",
   "language": "python",
   "name": "python3"
  },
  "language_info": {
   "codemirror_mode": {
    "name": "ipython",
    "version": 3
   },
   "file_extension": ".py",
   "mimetype": "text/x-python",
   "name": "python",
   "nbconvert_exporter": "python",
   "pygments_lexer": "ipython3",
   "version": "3.9.1"
  }
 },
 "nbformat": 4,
 "nbformat_minor": 5
}
